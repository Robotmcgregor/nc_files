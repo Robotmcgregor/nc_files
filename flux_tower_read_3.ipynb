{
 "cells": [
  {
   "cell_type": "markdown",
   "id": "c05a4133",
   "metadata": {},
   "source": [
    "# flux_tower_data_read"
   ]
  },
  {
   "cell_type": "markdown",
   "id": "b5ef4972",
   "metadata": {},
   "source": [
    "https://www.youtube.com/watch?v=eMsoMElIYsA"
   ]
  },
  {
   "cell_type": "code",
   "execution_count": 13,
   "id": "f78dd51a",
   "metadata": {},
   "outputs": [
    {
     "ename": "ModuleNotFoundError",
     "evalue": "No module named 'netcdftime'",
     "output_type": "error",
     "traceback": [
      "\u001b[1;31m---------------------------------------------------------------------------\u001b[0m",
      "\u001b[1;31mModuleNotFoundError\u001b[0m                       Traceback (most recent call last)",
      "\u001b[1;32m<ipython-input-13-92f09b0f8f12>\u001b[0m in \u001b[0;36m<module>\u001b[1;34m()\u001b[0m\n\u001b[0;32m      1\u001b[0m \u001b[1;31m# import modules\u001b[0m\u001b[1;33m\u001b[0m\u001b[1;33m\u001b[0m\u001b[1;33m\u001b[0m\u001b[0m\n\u001b[0;32m      2\u001b[0m \u001b[1;32mimport\u001b[0m \u001b[0mnetCDF4\u001b[0m \u001b[1;32mas\u001b[0m \u001b[0mnc\u001b[0m\u001b[1;33m\u001b[0m\u001b[1;33m\u001b[0m\u001b[0m\n\u001b[1;32m----> 3\u001b[1;33m \u001b[1;32mimport\u001b[0m \u001b[0mnetcdftime\u001b[0m\u001b[1;33m\u001b[0m\u001b[1;33m\u001b[0m\u001b[0m\n\u001b[0m\u001b[0;32m      4\u001b[0m \u001b[1;32mimport\u001b[0m \u001b[0mpandas\u001b[0m \u001b[1;32mas\u001b[0m \u001b[0mpd\u001b[0m\u001b[1;33m\u001b[0m\u001b[1;33m\u001b[0m\u001b[0m\n\u001b[0;32m      5\u001b[0m \u001b[1;32mimport\u001b[0m \u001b[0mxarray\u001b[0m \u001b[1;32mas\u001b[0m \u001b[0mxr\u001b[0m\u001b[1;33m\u001b[0m\u001b[1;33m\u001b[0m\u001b[0m\n",
      "\u001b[1;31mModuleNotFoundError\u001b[0m: No module named 'netcdftime'"
     ]
    }
   ],
   "source": [
    "# import modules\n",
    "import netCDF4 as nc\n",
    "import netcdftime\n",
    "import pandas as pd\n",
    "import xarray as xr\n",
    "import numpy as np\n",
    "from datetime import datetime, timedelta\n",
    "import matplotlib\n",
    "import matplotlib.pyplot as plt\n",
    "import seaborn as sbs\n",
    "import xlrd\n",
    "from netCDF4 import num2date"
   ]
  },
  {
   "cell_type": "code",
   "execution_count": 14,
   "id": "3e16207c",
   "metadata": {},
   "outputs": [],
   "source": [
    "#load nc file\n",
    "fn = r\"Z:\\Scratch\\Rob\\tern\\tower_flux\\daly_pasture\\DalyPasture_L6_20080101_20130908_Daily.nc\""
   ]
  },
  {
   "cell_type": "code",
   "execution_count": 15,
   "id": "0ecf2ba4",
   "metadata": {
    "scrolled": true
   },
   "outputs": [
    {
     "name": "stdout",
     "output_type": "stream",
     "text": [
      "<class 'netCDF4._netCDF4.Dataset'>\n",
      "root group (NETCDF4 data model, file format HDF5):\n",
      "    Conventions: CF-1.8\n",
      "    acknowledgement: This work used eddy covariance data collected by the TERN Ecosystem \n",
      "Processes facility. Ecosystem Processes would like to acknowledge the financial support of the \n",
      "Australian Federal Government via the National Collaborative Research Infrastructure Scheme \n",
      "and the Education Investment Fund.\n",
      "    canopy_height: 0.5m\n",
      "    comment: CF metadata, OzFlux standard variable names\n",
      "    contact: jason.beringer@monash.edu\n",
      "    controlfile_name: controlfiles/OzFlux/Tower/L6/DalyPasture.txt\n",
      "    coverage_flux_L3: 80%\n",
      "    coverage_flux_L4: 80%\n",
      "    coverage_flux_L5: 97%\n",
      "    coverage_flux_L6: 97%\n",
      "    coverage_meteorology_L3: 89%\n",
      "    coverage_meteorology_L4: 100%\n",
      "    coverage_meteorology_L5: 100%\n",
      "    coverage_meteorology_L6: 100%\n",
      "    coverage_radiation_L3: 92%\n",
      "    coverage_radiation_L4: 100%\n",
      "    coverage_radiation_L5: 100%\n",
      "    coverage_radiation_L6: 100%\n",
      "    coverage_soil_L3: 92%\n",
      "    coverage_soil_L4: 100%\n",
      "    coverage_soil_L5: 100%\n",
      "    coverage_soil_L6: 100%\n",
      "    data_link: http://ozflux.its.monash.edu.au/\n",
      "    date_created: 2022-03-22 12:29:59\n",
      "    featureType: timeSeries\n",
      "    history: June 2021 processing\n",
      "    institution: Monash University and Charles Darwin University\n",
      "    latitude: -17.1507\n",
      "    license: https://creativecommons.org/licenses/by/4.0/\n",
      "    license_name: CC BY 4.0\n",
      "    longitude: 133.3502\n",
      "    metadata_link: http://http://www.ozflux.org.au/monitoringsites/DalyPasture/index.html\n",
      "    nc_nrecs: 2077\n",
      "    ozflux_link: http://ozflux.org.au/\n",
      "    processing_level: L6\n",
      "    publisher_name: TERN Ecosystem Processes,OzFlux\n",
      "    pyfluxpro_version: PyFluxPro V3.3.3\n",
      "    python_version: 3.9.6 | packaged by conda-forge | (default, Jul 11 2021, 03:39:48) \n",
      "[GCC 9.3.0]\n",
      "    references: None\n",
      "    site_name: Daly Pasture\n",
      "    site_pi: Jason Beringer and Lindsay Hutley\n",
      "    soil: Red Kandosol\n",
      "    source: 5m flux tower plus array of soil sensors\n",
      "    time_coverage_end: 2013-09-07 00:30:00\n",
      "    time_coverage_start: 2008-01-01 00:30:00\n",
      "    time_step: daily\n",
      "    time_zone: Australia/Darwin\n",
      "    title: Flux tower data set from the Daly Pasture site for the calendar year 2013\n",
      "    tower_height: 5\n",
      "    vegetation: Tropical improved pasture\n",
      "    dimensions(sizes): time(2077), latitude(1), longitude(1)\n",
      "    variables(dimensions): float64 \u001b[4mtime\u001b[0m(time), float64 \u001b[4mlatitude\u001b[0m(latitude), float64 \u001b[4mlongitude\u001b[0m(longitude), float64 \u001b[4mAH\u001b[0m(time,latitude,longitude), float64 \u001b[4mCO2\u001b[0m(time,latitude,longitude), float64 \u001b[4mER_LT\u001b[0m(time,latitude,longitude), float64 \u001b[4mER_SOLO\u001b[0m(time,latitude,longitude), float64 \u001b[4mET\u001b[0m(time,latitude,longitude), float64 \u001b[4mFco2\u001b[0m(time,latitude,longitude), float64 \u001b[4mFe\u001b[0m(time,latitude,longitude), float64 \u001b[4mFg\u001b[0m(time,latitude,longitude), float64 \u001b[4mFh\u001b[0m(time,latitude,longitude), float64 \u001b[4mFld\u001b[0m(time,latitude,longitude), float64 \u001b[4mFlu\u001b[0m(time,latitude,longitude), float64 \u001b[4mFn\u001b[0m(time,latitude,longitude), float64 \u001b[4mFsd\u001b[0m(time,latitude,longitude), float64 \u001b[4mFsu\u001b[0m(time,latitude,longitude), float64 \u001b[4mGPP_LT\u001b[0m(time,latitude,longitude), float64 \u001b[4mGPP_SOLO\u001b[0m(time,latitude,longitude), float64 \u001b[4mNEE_LT\u001b[0m(time,latitude,longitude), float64 \u001b[4mNEE_SOLO\u001b[0m(time,latitude,longitude), float64 \u001b[4mNEP_LT\u001b[0m(time,latitude,longitude), float64 \u001b[4mNEP_SOLO\u001b[0m(time,latitude,longitude), float64 \u001b[4mPrecip\u001b[0m(time,latitude,longitude), float64 \u001b[4mRH\u001b[0m(time,latitude,longitude), float64 \u001b[4mSH\u001b[0m(time,latitude,longitude), float64 \u001b[4mSws\u001b[0m(time,latitude,longitude), float64 \u001b[4mTa\u001b[0m(time,latitude,longitude), float64 \u001b[4mTs\u001b[0m(time,latitude,longitude), float64 \u001b[4mVP\u001b[0m(time,latitude,longitude), float64 \u001b[4mWs\u001b[0m(time,latitude,longitude), float64 \u001b[4mps\u001b[0m(time,latitude,longitude), float64 \u001b[4mustar\u001b[0m(time,latitude,longitude)\n",
      "    groups: \n",
      "\n"
     ]
    },
    {
     "name": "stderr",
     "output_type": "stream",
     "text": [
      "C:\\Users\\rmcgr\\.conda\\envs\\zonal\\lib\\site-packages\\ipykernel_launcher.py:3: DeprecationWarning: tostring() is deprecated. Use tobytes() instead.\n",
      "  This is separate from the ipykernel package so we can avoid doing imports until\n"
     ]
    }
   ],
   "source": [
    "# read nc file as ds\n",
    "ds = nc.Dataset(fn)\n",
    "print(ds)"
   ]
  },
  {
   "cell_type": "code",
   "execution_count": 21,
   "id": "3ddba396",
   "metadata": {},
   "outputs": [
    {
     "data": {
      "text/plain": [
       "odict_keys(['time', 'latitude', 'longitude', 'AH', 'CO2', 'ER_LT', 'ER_SOLO', 'ET', 'Fco2', 'Fe', 'Fg', 'Fh', 'Fld', 'Flu', 'Fn', 'Fsd', 'Fsu', 'GPP_LT', 'GPP_SOLO', 'NEE_LT', 'NEE_SOLO', 'NEP_LT', 'NEP_SOLO', 'Precip', 'RH', 'SH', 'Sws', 'Ta', 'Ts', 'VP', 'Ws', 'ps', 'ustar'])"
      ]
     },
     "execution_count": 21,
     "metadata": {},
     "output_type": "execute_result"
    }
   ],
   "source": [
    "ds.variables.keys()"
   ]
  },
  {
   "cell_type": "code",
   "execution_count": 22,
   "id": "ec382217",
   "metadata": {},
   "outputs": [
    {
     "name": "stdout",
     "output_type": "stream",
     "text": [
      "OrderedDict([('Conventions', 'CF-1.8'), ('acknowledgement', 'This work used eddy covariance data collected by the TERN Ecosystem \\nProcesses facility. Ecosystem Processes would like to acknowledge the financial support of the \\nAustralian Federal Government via the National Collaborative Research Infrastructure Scheme \\nand the Education Investment Fund.'), ('canopy_height', '0.5m'), ('comment', 'CF metadata, OzFlux standard variable names'), ('contact', 'jason.beringer@monash.edu'), ('controlfile_name', 'controlfiles/OzFlux/Tower/L6/DalyPasture.txt'), ('coverage_flux_L3', '80%'), ('coverage_flux_L4', '80%'), ('coverage_flux_L5', '97%'), ('coverage_flux_L6', '97%'), ('coverage_meteorology_L3', '89%'), ('coverage_meteorology_L4', '100%'), ('coverage_meteorology_L5', '100%'), ('coverage_meteorology_L6', '100%'), ('coverage_radiation_L3', '92%'), ('coverage_radiation_L4', '100%'), ('coverage_radiation_L5', '100%'), ('coverage_radiation_L6', '100%'), ('coverage_soil_L3', '92%'), ('coverage_soil_L4', '100%'), ('coverage_soil_L5', '100%'), ('coverage_soil_L6', '100%'), ('data_link', 'http://ozflux.its.monash.edu.au/'), ('date_created', '2022-03-22 12:29:59'), ('featureType', 'timeSeries'), ('history', 'June 2021 processing'), ('institution', 'Monash University and Charles Darwin University'), ('latitude', '-17.1507'), ('license', 'https://creativecommons.org/licenses/by/4.0/'), ('license_name', 'CC BY 4.0'), ('longitude', '133.3502'), ('metadata_link', 'http://http://www.ozflux.org.au/monitoringsites/DalyPasture/index.html'), ('nc_nrecs', '2077'), ('ozflux_link', 'http://ozflux.org.au/'), ('processing_level', 'L6'), ('publisher_name', 'TERN Ecosystem Processes,OzFlux'), ('pyfluxpro_version', 'PyFluxPro V3.3.3'), ('python_version', '3.9.6 | packaged by conda-forge | (default, Jul 11 2021, 03:39:48) \\n[GCC 9.3.0]'), ('references', 'None'), ('site_name', 'Daly Pasture'), ('site_pi', 'Jason Beringer and Lindsay Hutley'), ('soil', 'Red Kandosol'), ('source', '5m flux tower plus array of soil sensors'), ('time_coverage_end', '2013-09-07 00:30:00'), ('time_coverage_start', '2008-01-01 00:30:00'), ('time_step', 'daily'), ('time_zone', 'Australia/Darwin'), ('title', 'Flux tower data set from the Daly Pasture site for the calendar year 2013'), ('tower_height', '5'), ('vegetation', 'Tropical improved pasture')])\n"
     ]
    },
    {
     "name": "stderr",
     "output_type": "stream",
     "text": [
      "C:\\Users\\rmcgr\\.conda\\envs\\zonal\\lib\\site-packages\\ipykernel_launcher.py:1: DeprecationWarning: tostring() is deprecated. Use tobytes() instead.\n",
      "  \"\"\"Entry point for launching an IPython kernel.\n"
     ]
    }
   ],
   "source": [
    "print(ds.__dict__)"
   ]
  },
  {
   "cell_type": "code",
   "execution_count": 31,
   "id": "dcbb3aa9",
   "metadata": {},
   "outputs": [
    {
     "name": "stdout",
     "output_type": "stream",
     "text": [
      "<class 'netCDF4._netCDF4.Dimension'>: name = 'time', size = 2077\n",
      "\n",
      "<class 'netCDF4._netCDF4.Dimension'>: name = 'latitude', size = 1\n",
      "\n",
      "<class 'netCDF4._netCDF4.Dimension'>: name = 'longitude', size = 1\n",
      "\n"
     ]
    },
    {
     "name": "stderr",
     "output_type": "stream",
     "text": [
      "C:\\Users\\rmcgr\\.conda\\envs\\zonal\\lib\\site-packages\\ipykernel_launcher.py:2: DeprecationWarning: tostring() is deprecated. Use tobytes() instead.\n",
      "  \n"
     ]
    }
   ],
   "source": [
    "for dim in ds.dimensions.values():\n",
    "    print(dim)"
   ]
  },
  {
   "cell_type": "code",
   "execution_count": null,
   "id": "d28ea66b",
   "metadata": {},
   "outputs": [],
   "source": []
  },
  {
   "cell_type": "code",
   "execution_count": null,
   "id": "75568dbc",
   "metadata": {},
   "outputs": [],
   "source": []
  },
  {
   "cell_type": "code",
   "execution_count": null,
   "id": "fab368f3",
   "metadata": {},
   "outputs": [],
   "source": []
  },
  {
   "cell_type": "code",
   "execution_count": null,
   "id": "6c7fcf02",
   "metadata": {},
   "outputs": [],
   "source": [
    "dtime = nc.num2date(time_var[:],time_var.units)\n",
    "dtime"
   ]
  },
  {
   "cell_type": "code",
   "execution_count": 27,
   "id": "392be169",
   "metadata": {},
   "outputs": [],
   "source": [
    "\n",
    "def read_ncdf(file,vars=[]):\n",
    "    \"\"\" Reads a NetCDF 3 file and returns a dict with its variables\n",
    "    \n",
    "    Parameters\n",
    "    ----------\n",
    "    file : string\n",
    "        The netCDF file to be read\n",
    "    vars : string list, optional\n",
    "        List of variables to be read from file\n",
    "    Returns\n",
    "    -------\n",
    "    d : A python dict containing the files variables\n",
    "    Examples\n",
    "    --------\n",
    "    >>> d=read_ncdf('test.cdf')\n",
    "    >>> d1=read_ncdf('test.cdf',vars=['var1'])\n",
    "    >>> d2=read_ncdf('test.cdf',vars=['var1','var2'])\n",
    "    \"\"\"\n",
    "    from scipy.io import netcdf\n",
    "\n",
    "    try:\n",
    "        f=netcdf.netcdf_file(file,'r',mmap=False)\n",
    "    except IOError:\n",
    "        print('Error: Cannot open file'+file)\n",
    "        return 0\n",
    "\n",
    "    if vars == []: vars=f.variables.keys()\n",
    "    d=dict((v,f.variables[v].data) for v in vars)\n",
    "    f.close()\n",
    "    return d"
   ]
  },
  {
   "cell_type": "code",
   "execution_count": 30,
   "id": "4d9da4b0",
   "metadata": {},
   "outputs": [
    {
     "ename": "TypeError",
     "evalue": "Error: Z:\\Scratch\\Rob\\tern\\tower_flux\\daly_pasture\\DalyPasture_L6_20080101_20130908_Daily.nc is not a valid NetCDF 3 file",
     "output_type": "error",
     "traceback": [
      "\u001b[1;31m---------------------------------------------------------------------------\u001b[0m",
      "\u001b[1;31mTypeError\u001b[0m                                 Traceback (most recent call last)",
      "\u001b[1;32m<ipython-input-30-f690cdd40a9c>\u001b[0m in \u001b[0;36m<module>\u001b[1;34m()\u001b[0m\n\u001b[1;32m----> 1\u001b[1;33m \u001b[0mread_ncdf\u001b[0m\u001b[1;33m(\u001b[0m\u001b[0mfn\u001b[0m\u001b[1;33m)\u001b[0m\u001b[1;33m\u001b[0m\u001b[1;33m\u001b[0m\u001b[0m\n\u001b[0m",
      "\u001b[1;32m<ipython-input-27-5296d9fdbb01>\u001b[0m in \u001b[0;36mread_ncdf\u001b[1;34m(file, vars)\u001b[0m\n\u001b[0;32m     21\u001b[0m \u001b[1;33m\u001b[0m\u001b[0m\n\u001b[0;32m     22\u001b[0m     \u001b[1;32mtry\u001b[0m\u001b[1;33m:\u001b[0m\u001b[1;33m\u001b[0m\u001b[1;33m\u001b[0m\u001b[0m\n\u001b[1;32m---> 23\u001b[1;33m         \u001b[0mf\u001b[0m\u001b[1;33m=\u001b[0m\u001b[0mnetcdf\u001b[0m\u001b[1;33m.\u001b[0m\u001b[0mnetcdf_file\u001b[0m\u001b[1;33m(\u001b[0m\u001b[0mfile\u001b[0m\u001b[1;33m,\u001b[0m\u001b[1;34m'r'\u001b[0m\u001b[1;33m,\u001b[0m\u001b[0mmmap\u001b[0m\u001b[1;33m=\u001b[0m\u001b[1;32mFalse\u001b[0m\u001b[1;33m)\u001b[0m\u001b[1;33m\u001b[0m\u001b[1;33m\u001b[0m\u001b[0m\n\u001b[0m\u001b[0;32m     24\u001b[0m     \u001b[1;32mexcept\u001b[0m \u001b[0mIOError\u001b[0m\u001b[1;33m:\u001b[0m\u001b[1;33m\u001b[0m\u001b[1;33m\u001b[0m\u001b[0m\n\u001b[0;32m     25\u001b[0m         \u001b[0mprint\u001b[0m\u001b[1;33m(\u001b[0m\u001b[1;34m'Error: Cannot open file'\u001b[0m\u001b[1;33m+\u001b[0m\u001b[0mfile\u001b[0m\u001b[1;33m)\u001b[0m\u001b[1;33m\u001b[0m\u001b[1;33m\u001b[0m\u001b[0m\n",
      "\u001b[1;32mC:\\Users\\rmcgr\\.conda\\envs\\zonal\\lib\\site-packages\\scipy\\io\\netcdf.py\u001b[0m in \u001b[0;36m__init__\u001b[1;34m(self, filename, mode, mmap, version, maskandscale)\u001b[0m\n\u001b[0;32m    279\u001b[0m \u001b[1;33m\u001b[0m\u001b[0m\n\u001b[0;32m    280\u001b[0m         \u001b[1;32mif\u001b[0m \u001b[0mmode\u001b[0m \u001b[1;32min\u001b[0m \u001b[1;34m'ra'\u001b[0m\u001b[1;33m:\u001b[0m\u001b[1;33m\u001b[0m\u001b[1;33m\u001b[0m\u001b[0m\n\u001b[1;32m--> 281\u001b[1;33m             \u001b[0mself\u001b[0m\u001b[1;33m.\u001b[0m\u001b[0m_read\u001b[0m\u001b[1;33m(\u001b[0m\u001b[1;33m)\u001b[0m\u001b[1;33m\u001b[0m\u001b[1;33m\u001b[0m\u001b[0m\n\u001b[0m\u001b[0;32m    282\u001b[0m \u001b[1;33m\u001b[0m\u001b[0m\n\u001b[0;32m    283\u001b[0m     \u001b[1;32mdef\u001b[0m \u001b[0m__setattr__\u001b[0m\u001b[1;33m(\u001b[0m\u001b[0mself\u001b[0m\u001b[1;33m,\u001b[0m \u001b[0mattr\u001b[0m\u001b[1;33m,\u001b[0m \u001b[0mvalue\u001b[0m\u001b[1;33m)\u001b[0m\u001b[1;33m:\u001b[0m\u001b[1;33m\u001b[0m\u001b[1;33m\u001b[0m\u001b[0m\n",
      "\u001b[1;32mC:\\Users\\rmcgr\\.conda\\envs\\zonal\\lib\\site-packages\\scipy\\io\\netcdf.py\u001b[0m in \u001b[0;36m_read\u001b[1;34m(self)\u001b[0m\n\u001b[0;32m    601\u001b[0m         \u001b[1;32mif\u001b[0m \u001b[1;32mnot\u001b[0m \u001b[0mmagic\u001b[0m \u001b[1;33m==\u001b[0m \u001b[1;34mb'CDF'\u001b[0m\u001b[1;33m:\u001b[0m\u001b[1;33m\u001b[0m\u001b[1;33m\u001b[0m\u001b[0m\n\u001b[0;32m    602\u001b[0m             raise TypeError(\"Error: %s is not a valid NetCDF 3 file\" %\n\u001b[1;32m--> 603\u001b[1;33m                             self.filename)\n\u001b[0m\u001b[0;32m    604\u001b[0m         \u001b[0mself\u001b[0m\u001b[1;33m.\u001b[0m\u001b[0m__dict__\u001b[0m\u001b[1;33m[\u001b[0m\u001b[1;34m'version_byte'\u001b[0m\u001b[1;33m]\u001b[0m \u001b[1;33m=\u001b[0m \u001b[0mfrombuffer\u001b[0m\u001b[1;33m(\u001b[0m\u001b[0mself\u001b[0m\u001b[1;33m.\u001b[0m\u001b[0mfp\u001b[0m\u001b[1;33m.\u001b[0m\u001b[0mread\u001b[0m\u001b[1;33m(\u001b[0m\u001b[1;36m1\u001b[0m\u001b[1;33m)\u001b[0m\u001b[1;33m,\u001b[0m \u001b[1;34m'>b'\u001b[0m\u001b[1;33m)\u001b[0m\u001b[1;33m[\u001b[0m\u001b[1;36m0\u001b[0m\u001b[1;33m]\u001b[0m\u001b[1;33m\u001b[0m\u001b[1;33m\u001b[0m\u001b[0m\n\u001b[0;32m    605\u001b[0m \u001b[1;33m\u001b[0m\u001b[0m\n",
      "\u001b[1;31mTypeError\u001b[0m: Error: Z:\\Scratch\\Rob\\tern\\tower_flux\\daly_pasture\\DalyPasture_L6_20080101_20130908_Daily.nc is not a valid NetCDF 3 file"
     ]
    }
   ],
   "source": [
    "read_ncdf(fn)"
   ]
  },
  {
   "cell_type": "code",
   "execution_count": 26,
   "id": "1dd6e541",
   "metadata": {},
   "outputs": [
    {
     "name": "stdout",
     "output_type": "stream",
     "text": [
      "-----------------------------------------------------------------------\n",
      "<class 'netCDF4._netCDF4.Variable'>\n",
      "-----------------------------------------------------------------------\n",
      "<class 'netCDF4._netCDF4.Variable'>\n",
      "-----------------------------------------------------------------------\n",
      "<class 'netCDF4._netCDF4.Variable'>\n",
      "-----------------------------------------------------------------------\n",
      "<class 'netCDF4._netCDF4.Variable'>\n",
      "-----------------------------------------------------------------------\n",
      "<class 'netCDF4._netCDF4.Variable'>\n",
      "-----------------------------------------------------------------------\n",
      "<class 'netCDF4._netCDF4.Variable'>\n",
      "-----------------------------------------------------------------------\n",
      "<class 'netCDF4._netCDF4.Variable'>\n",
      "-----------------------------------------------------------------------\n",
      "<class 'netCDF4._netCDF4.Variable'>\n",
      "-----------------------------------------------------------------------\n",
      "<class 'netCDF4._netCDF4.Variable'>\n",
      "-----------------------------------------------------------------------\n",
      "<class 'netCDF4._netCDF4.Variable'>\n",
      "-----------------------------------------------------------------------\n",
      "<class 'netCDF4._netCDF4.Variable'>\n",
      "-----------------------------------------------------------------------\n",
      "<class 'netCDF4._netCDF4.Variable'>\n",
      "-----------------------------------------------------------------------\n",
      "<class 'netCDF4._netCDF4.Variable'>\n",
      "-----------------------------------------------------------------------\n",
      "<class 'netCDF4._netCDF4.Variable'>\n",
      "-----------------------------------------------------------------------\n",
      "<class 'netCDF4._netCDF4.Variable'>\n",
      "-----------------------------------------------------------------------\n",
      "<class 'netCDF4._netCDF4.Variable'>\n",
      "-----------------------------------------------------------------------\n",
      "<class 'netCDF4._netCDF4.Variable'>\n",
      "-----------------------------------------------------------------------\n",
      "<class 'netCDF4._netCDF4.Variable'>\n",
      "-----------------------------------------------------------------------\n",
      "<class 'netCDF4._netCDF4.Variable'>\n",
      "-----------------------------------------------------------------------\n",
      "<class 'netCDF4._netCDF4.Variable'>\n",
      "-----------------------------------------------------------------------\n",
      "<class 'netCDF4._netCDF4.Variable'>\n",
      "-----------------------------------------------------------------------\n",
      "<class 'netCDF4._netCDF4.Variable'>\n",
      "-----------------------------------------------------------------------\n",
      "<class 'netCDF4._netCDF4.Variable'>\n",
      "-----------------------------------------------------------------------\n",
      "<class 'netCDF4._netCDF4.Variable'>\n",
      "-----------------------------------------------------------------------\n",
      "<class 'netCDF4._netCDF4.Variable'>\n",
      "-----------------------------------------------------------------------\n",
      "<class 'netCDF4._netCDF4.Variable'>\n",
      "-----------------------------------------------------------------------\n",
      "<class 'netCDF4._netCDF4.Variable'>\n",
      "-----------------------------------------------------------------------\n",
      "<class 'netCDF4._netCDF4.Variable'>\n",
      "-----------------------------------------------------------------------\n",
      "<class 'netCDF4._netCDF4.Variable'>\n",
      "-----------------------------------------------------------------------\n",
      "<class 'netCDF4._netCDF4.Variable'>\n",
      "-----------------------------------------------------------------------\n",
      "<class 'netCDF4._netCDF4.Variable'>\n",
      "-----------------------------------------------------------------------\n",
      "<class 'netCDF4._netCDF4.Variable'>\n",
      "-----------------------------------------------------------------------\n",
      "<class 'netCDF4._netCDF4.Variable'>\n"
     ]
    }
   ],
   "source": [
    "for var in ds.variables.values():\n",
    "    print(\"-----------------------------------------------------------------------\")\n",
    "    print(type(var))"
   ]
  },
  {
   "cell_type": "code",
   "execution_count": 20,
   "id": "a09dbed0",
   "metadata": {
    "scrolled": true
   },
   "outputs": [
    {
     "name": "stdout",
     "output_type": "stream",
     "text": [
      "<class 'netCDF4._netCDF4.Variable'>\n",
      "float64 time(time)\n",
      "    long_name: time\n",
      "    standard_name: time\n",
      "    units: days since 1800-01-01 00:00:00.0\n",
      "unlimited dimensions: \n",
      "current shape = (2077,)\n",
      "filling on, default _FillValue of 9.969209968386869e+36 used\n",
      "\n",
      "-----------------------------------------------------------------------\n",
      "<class 'netCDF4._netCDF4.Variable'>\n",
      "float64 latitude(latitude)\n",
      "    long_name: latitude\n",
      "    standard_name: latitude\n",
      "    units: degrees north\n",
      "unlimited dimensions: \n",
      "current shape = (1,)\n",
      "filling on, default _FillValue of 9.969209968386869e+36 used\n",
      "\n",
      "-----------------------------------------------------------------------\n",
      "<class 'netCDF4._netCDF4.Variable'>\n",
      "float64 longitude(longitude)\n",
      "    long_name: longitude\n",
      "    standard_name: longitude\n",
      "    units: degrees east\n",
      "unlimited dimensions: \n",
      "current shape = (1,)\n",
      "filling on, default _FillValue of 9.969209968386869e+36 used\n",
      "\n",
      "-----------------------------------------------------------------------\n",
      "<class 'netCDF4._netCDF4.Variable'>\n",
      "float64 AH(time, latitude, longitude)\n",
      "    units: g/m^3\n",
      "    long_name: Absolute humidity\n",
      "    height: 3m\n",
      "    instrument: HMP45C\n",
      "    description_L4: Gap filled using aws, access, era5, climatology\n",
      "unlimited dimensions: \n",
      "current shape = (2077, 1, 1)\n",
      "filling on, default _FillValue of 9.969209968386869e+36 used\n",
      "\n",
      "-----------------------------------------------------------------------\n",
      "<class 'netCDF4._netCDF4.Variable'>\n",
      "float64 CO2(time, latitude, longitude)\n",
      "    units: umol/mol\n",
      "    long_name: CO2 concentration\n",
      "    height: 3m\n",
      "    instrument: Li-7500\n",
      "    description_L4: Gap filled using climatology\n",
      "unlimited dimensions: \n",
      "current shape = (2077, 1, 1)\n",
      "filling on, default _FillValue of 9.969209968386869e+36 used\n",
      "\n",
      "-----------------------------------------------------------------------\n",
      "<class 'netCDF4._netCDF4.Variable'>\n",
      "float64 ER_LT(time, latitude, longitude)\n",
      "    units: gC/m^2/day\n",
      "    long_name: Ecosystem respiration\n",
      "    height: 3m\n",
      "    description_L6: Ecosystem respiration as nocturnal, ustar-filtered Fco2, gap filled using Ecosystem respiration modelled by Lloyd-Taylor\n",
      "unlimited dimensions: \n",
      "current shape = (2077, 1, 1)\n",
      "filling on, default _FillValue of 9.969209968386869e+36 used\n",
      "\n",
      "-----------------------------------------------------------------------\n",
      "<class 'netCDF4._netCDF4.Variable'>\n",
      "float64 ER_SOLO(time, latitude, longitude)\n",
      "    units: gC/m^2/day\n",
      "    long_name: Ecosystem respiration\n",
      "    height: 3m\n",
      "    description_L6: Ecosystem respiration as nocturnal, ustar-filtered Fco2, gap filled using Modeled by neural network (SOLO)\n",
      "unlimited dimensions: \n",
      "current shape = (2077, 1, 1)\n",
      "filling on, default _FillValue of 9.969209968386869e+36 used\n",
      "\n",
      "-----------------------------------------------------------------------\n",
      "<class 'netCDF4._netCDF4.Variable'>\n",
      "float64 ET(time, latitude, longitude)\n",
      "    units: kg/m^2/day\n",
      "    long_name: Evapo-transpiration\n",
      "    height: 3m\n",
      "    description_L5: , gap filled using SOLO\n",
      "unlimited dimensions: \n",
      "current shape = (2077, 1, 1)\n",
      "filling on, default _FillValue of 9.969209968386869e+36 used\n",
      "\n",
      "-----------------------------------------------------------------------\n",
      "<class 'netCDF4._netCDF4.Variable'>\n",
      "float64 Fco2(time, latitude, longitude)\n",
      "    units: umol/m^2/s\n",
      "    long_name: CO2 flux\n",
      "    height: 3m\n",
      "    description_L5: , turbulence filter applied, gap filled using SOLO\n",
      "unlimited dimensions: \n",
      "current shape = (2077, 1, 1)\n",
      "filling on, default _FillValue of 9.969209968386869e+36 used\n",
      "\n",
      "-----------------------------------------------------------------------\n",
      "<class 'netCDF4._netCDF4.Variable'>\n",
      "float64 Fe(time, latitude, longitude)\n",
      "    units: W/m^2\n",
      "    long_name: Latent heat flux\n",
      "    height: 3m\n",
      "    description_L5: , gap filled using SOLO\n",
      "unlimited dimensions: \n",
      "current shape = (2077, 1, 1)\n",
      "filling on, default _FillValue of 9.969209968386869e+36 used\n",
      "\n",
      "-----------------------------------------------------------------------\n",
      "<class 'netCDF4._netCDF4.Variable'>\n",
      "float64 Fg(time, latitude, longitude)\n",
      "    units: W/m^2\n",
      "    long_name: Ground heat flux\n",
      "    description_L4: Gap filled using access, era5, climatology\n",
      "unlimited dimensions: \n",
      "current shape = (2077, 1, 1)\n",
      "filling on, default _FillValue of 9.969209968386869e+36 used\n",
      "\n",
      "-----------------------------------------------------------------------\n",
      "<class 'netCDF4._netCDF4.Variable'>\n",
      "float64 Fh(time, latitude, longitude)\n",
      "    units: W/m^2\n",
      "    long_name: Sensible heat flux\n",
      "    height: 3m\n",
      "    description_L5: , gap filled using SOLO\n",
      "unlimited dimensions: \n",
      "current shape = (2077, 1, 1)\n",
      "filling on, default _FillValue of 9.969209968386869e+36 used\n",
      "\n",
      "-----------------------------------------------------------------------\n",
      "<class 'netCDF4._netCDF4.Variable'>\n",
      "float64 Fld(time, latitude, longitude)\n",
      "    units: W/m^2\n",
      "    long_name: Down-welling longwave radiation\n",
      "    height: 3m\n",
      "    instrument: Kipp and Zonen CNR4\n",
      "    description_L4: Gap filled using access, era5, climatology\n",
      "unlimited dimensions: \n",
      "current shape = (2077, 1, 1)\n",
      "filling on, default _FillValue of 9.969209968386869e+36 used\n",
      "\n",
      "-----------------------------------------------------------------------\n",
      "<class 'netCDF4._netCDF4.Variable'>\n",
      "float64 Flu(time, latitude, longitude)\n",
      "    units: W/m^2\n",
      "    long_name: Up-welling longwave radiation\n",
      "    height: 3m\n",
      "    instrument: Kipp and Zonen CNR4\n",
      "    description_L4: Gap filled using access, era5, climatology\n",
      "unlimited dimensions: \n",
      "current shape = (2077, 1, 1)\n",
      "filling on, default _FillValue of 9.969209968386869e+36 used\n",
      "\n",
      "-----------------------------------------------------------------------\n",
      "<class 'netCDF4._netCDF4.Variable'>\n",
      "float64 Fn(time, latitude, longitude)\n",
      "    units: W/m^2\n",
      "    long_name: Net radiation\n",
      "    height: 3m\n",
      "    instrument: NR Lite\n",
      "    description_L4: Gap filled using access, era5, climatology\n",
      "unlimited dimensions: \n",
      "current shape = (2077, 1, 1)\n",
      "filling on, default _FillValue of 9.969209968386869e+36 used\n",
      "\n",
      "-----------------------------------------------------------------------\n",
      "<class 'netCDF4._netCDF4.Variable'>\n",
      "float64 Fsd(time, latitude, longitude)\n",
      "    units: W/m^2\n",
      "    long_name: Down-welling shortwave radiation\n",
      "    height: 3m\n",
      "    instrument: Kipp and Zonen CNR4\n",
      "    description_L4: Gap filled using access, era5, climatology\n",
      "unlimited dimensions: \n",
      "current shape = (2077, 1, 1)\n",
      "filling on, default _FillValue of 9.969209968386869e+36 used\n",
      "\n",
      "-----------------------------------------------------------------------\n",
      "<class 'netCDF4._netCDF4.Variable'>\n",
      "float64 Fsu(time, latitude, longitude)\n",
      "    units: W/m^2\n",
      "    long_name: Up-welling shortwave radiation\n",
      "    height: 3m\n",
      "    instrument: Kipp and Zonen CNR4\n",
      "    description_L4: Gap filled using access, era5, climatology\n",
      "unlimited dimensions: \n",
      "current shape = (2077, 1, 1)\n",
      "filling on, default _FillValue of 9.969209968386869e+36 used\n",
      "\n",
      "-----------------------------------------------------------------------\n",
      "<class 'netCDF4._netCDF4.Variable'>\n",
      "float64 GPP_LT(time, latitude, longitude)\n",
      "    units: gC/m^2/day\n",
      "    long_name: Gross Primary Productivity\n",
      "    description_L6: Calculated as -1*NEE_LT + ER_LT\n",
      "unlimited dimensions: \n",
      "current shape = (2077, 1, 1)\n",
      "filling on, default _FillValue of 9.969209968386869e+36 used\n",
      "\n",
      "-----------------------------------------------------------------------\n",
      "<class 'netCDF4._netCDF4.Variable'>\n",
      "float64 GPP_SOLO(time, latitude, longitude)\n",
      "    units: gC/m^2/day\n",
      "    long_name: Gross Primary Productivity\n",
      "    description_L6: Calculated as -1*NEE_SOLO + ER_SOLO\n",
      "unlimited dimensions: \n",
      "current shape = (2077, 1, 1)\n",
      "filling on, default _FillValue of 9.969209968386869e+36 used\n",
      "\n",
      "-----------------------------------------------------------------------\n",
      "<class 'netCDF4._netCDF4.Variable'>\n",
      "float64 NEE_LT(time, latitude, longitude)\n",
      "    units: gC/m^2/day\n",
      "    long_name: Net Ecosystem Exchange\n",
      "    description_L6:  Calculated from Fco2 and ER_LT\n",
      "unlimited dimensions: \n",
      "current shape = (2077, 1, 1)\n",
      "filling on, default _FillValue of 9.969209968386869e+36 used\n",
      "\n",
      "-----------------------------------------------------------------------\n",
      "<class 'netCDF4._netCDF4.Variable'>\n",
      "float64 NEE_SOLO(time, latitude, longitude)\n",
      "    units: gC/m^2/day\n",
      "    long_name: Net Ecosystem Exchange\n",
      "    description_L6:  Calculated from Fco2 and ER_SOLO\n",
      "unlimited dimensions: \n",
      "current shape = (2077, 1, 1)\n",
      "filling on, default _FillValue of 9.969209968386869e+36 used\n",
      "\n",
      "-----------------------------------------------------------------------\n",
      "<class 'netCDF4._netCDF4.Variable'>\n",
      "float64 NEP_LT(time, latitude, longitude)\n",
      "    units: gC/m^2/day\n",
      "    long_name: Net Ecosystem Productivity\n",
      "    description_L6:  Calculated from Fco2 and ER_LT, calculated as -1*NEE_LT\n",
      "unlimited dimensions: \n",
      "current shape = (2077, 1, 1)\n",
      "filling on, default _FillValue of 9.969209968386869e+36 used\n",
      "\n",
      "-----------------------------------------------------------------------\n",
      "<class 'netCDF4._netCDF4.Variable'>\n",
      "float64 NEP_SOLO(time, latitude, longitude)\n",
      "    units: gC/m^2/day\n",
      "    long_name: Net Ecosystem Productivity\n",
      "    description_L6:  Calculated from Fco2 and ER_SOLO, calculated as -1*NEE_SOLO\n",
      "unlimited dimensions: \n",
      "current shape = (2077, 1, 1)\n",
      "filling on, default _FillValue of 9.969209968386869e+36 used\n",
      "\n",
      "-----------------------------------------------------------------------\n",
      "<class 'netCDF4._netCDF4.Variable'>\n",
      "float64 Precip(time, latitude, longitude)\n",
      "    units: mm/day\n",
      "    long_name: Rainfall\n",
      "    height: 0.6m\n",
      "    instrument: Hydrological Services CS7000\n",
      "    description_L4: Gap filled using aws, access, era5\n",
      "unlimited dimensions: \n",
      "current shape = (2077, 1, 1)\n",
      "filling on, default _FillValue of 9.969209968386869e+36 used\n",
      "\n",
      "-----------------------------------------------------------------------\n",
      "<class 'netCDF4._netCDF4.Variable'>\n",
      "float64 RH(time, latitude, longitude)\n",
      "    units: percent\n",
      "    long_name: Relative humidity\n",
      "    description_L4: Merged with RH calculated from AH\n",
      "unlimited dimensions: \n",
      "current shape = (2077, 1, 1)\n",
      "filling on, default _FillValue of 9.969209968386869e+36 used\n",
      "\n",
      "-----------------------------------------------------------------------\n",
      "<class 'netCDF4._netCDF4.Variable'>\n",
      "float64 SH(time, latitude, longitude)\n",
      "    units: kg/kg\n",
      "    long_name: Specific humidity\n",
      "    description_L4: Merged with SH calculated from AH\n",
      "unlimited dimensions: \n",
      "current shape = (2077, 1, 1)\n",
      "filling on, default _FillValue of 9.969209968386869e+36 used\n",
      "\n",
      "-----------------------------------------------------------------------\n",
      "<class 'netCDF4._netCDF4.Variable'>\n",
      "float64 Sws(time, latitude, longitude)\n",
      "    units: m^3/m^3\n",
      "    long_name: Soil water content\n",
      "    height: -0.05m\n",
      "    instrument: Campbell Scientific CS616\n",
      "    description_L4: Gap filled using access, era5, climatology\n",
      "unlimited dimensions: \n",
      "current shape = (2077, 1, 1)\n",
      "filling on, default _FillValue of 9.969209968386869e+36 used\n",
      "\n",
      "-----------------------------------------------------------------------\n",
      "<class 'netCDF4._netCDF4.Variable'>\n",
      "float64 Ta(time, latitude, longitude)\n",
      "    units: degC\n",
      "    long_name: Air temperature\n",
      "    height: 3m\n",
      "    instrument: HMP45C\n",
      "    description_L4: Gap filled using aws, access, era5, climatology\n",
      "unlimited dimensions: \n",
      "current shape = (2077, 1, 1)\n",
      "filling on, default _FillValue of 9.969209968386869e+36 used\n",
      "\n",
      "-----------------------------------------------------------------------\n",
      "<class 'netCDF4._netCDF4.Variable'>\n",
      "float64 Ts(time, latitude, longitude)\n",
      "    units: degC\n",
      "    long_name: Soil temperature\n",
      "    height: -0.08m\n",
      "    instrument: Campbell Scientific TCAV\n",
      "    description_L4: Gap filled using access, era5, climatology\n",
      "unlimited dimensions: \n",
      "current shape = (2077, 1, 1)\n",
      "filling on, default _FillValue of 9.969209968386869e+36 used\n",
      "\n",
      "-----------------------------------------------------------------------\n",
      "<class 'netCDF4._netCDF4.Variable'>\n",
      "float64 VP(time, latitude, longitude)\n",
      "    units: kPa\n",
      "    long_name: Vapour pressure\n",
      "    description_L3: Vapour pressure calculated from AH, Ta and ps\n",
      "    description_L4: Vapour pressure calculated from AH, Ta and ps\n",
      "unlimited dimensions: \n",
      "current shape = (2077, 1, 1)\n",
      "filling on, default _FillValue of 9.969209968386869e+36 used\n",
      "\n",
      "-----------------------------------------------------------------------\n",
      "<class 'netCDF4._netCDF4.Variable'>\n",
      "float64 Ws(time, latitude, longitude)\n",
      "    units: m/s\n",
      "    long_name: Wind speed\n",
      "    height: 3m\n",
      "    instrument: CSAT\n",
      "    description_L4: Gap filled using aws, access, era5, climatology\n",
      "unlimited dimensions: \n",
      "current shape = (2077, 1, 1)\n",
      "filling on, default _FillValue of 9.969209968386869e+36 used\n",
      "\n",
      "-----------------------------------------------------------------------\n",
      "<class 'netCDF4._netCDF4.Variable'>\n",
      "float64 ps(time, latitude, longitude)\n",
      "    units: kPa\n",
      "    long_name: Surface air pressure\n",
      "    height: 3m\n",
      "    instrument: Li-7500\n",
      "    description_L4: Gap filled using aws, access, era5, climatology\n",
      "unlimited dimensions: \n",
      "current shape = (2077, 1, 1)\n",
      "filling on, default _FillValue of 9.969209968386869e+36 used\n",
      "\n",
      "-----------------------------------------------------------------------\n",
      "<class 'netCDF4._netCDF4.Variable'>\n",
      "float64 ustar(time, latitude, longitude)\n",
      "    units: m/s\n",
      "    long_name: Friction velocity\n",
      "    height: 3m\n",
      "    description_L5: , gap filled using SOLO\n",
      "unlimited dimensions: \n",
      "current shape = (2077, 1, 1)\n",
      "filling on, default _FillValue of 9.969209968386869e+36 used\n",
      "\n",
      "-----------------------------------------------------------------------\n"
     ]
    },
    {
     "name": "stderr",
     "output_type": "stream",
     "text": [
      "C:\\Users\\rmcgr\\.conda\\envs\\zonal\\lib\\site-packages\\ipykernel_launcher.py:2: DeprecationWarning: tostring() is deprecated. Use tobytes() instead.\n",
      "  \n"
     ]
    }
   ],
   "source": [
    "for var in ds.variables.values():\n",
    "    print(var)\n",
    "    print(\"-----------------------------------------------------------------------\")\n",
    "    "
   ]
  },
  {
   "cell_type": "code",
   "execution_count": 8,
   "id": "37b51583",
   "metadata": {},
   "outputs": [
    {
     "data": {
      "text/plain": [
       "<class 'netCDF4._netCDF4.Variable'>\n",
       "float64 time(time)\n",
       "    long_name: time\n",
       "    standard_name: time\n",
       "    units: days since 1800-01-01 00:00:00.0\n",
       "unlimited dimensions: \n",
       "current shape = (2077,)\n",
       "filling on, default _FillValue of 9.969209968386869e+36 used"
      ]
     },
     "execution_count": 8,
     "metadata": {},
     "output_type": "execute_result"
    }
   ],
   "source": [
    "time_var = ds.variables['time']\n",
    "time_var"
   ]
  },
  {
   "cell_type": "code",
   "execution_count": 9,
   "id": "1fa0b8b0",
   "metadata": {},
   "outputs": [
    {
     "name": "stderr",
     "output_type": "stream",
     "text": [
      "C:\\Users\\rmcgr\\.conda\\envs\\zonal\\lib\\site-packages\\ipykernel_launcher.py:1: DeprecationWarning: tostring() is deprecated. Use tobytes() instead.\n",
      "  \"\"\"Entry point for launching an IPython kernel.\n"
     ]
    },
    {
     "data": {
      "text/plain": [
       "masked_array(data=[cftime.DatetimeGregorian(2008, 1, 1, 0, 30, 0, 0, has_year_zero=False),\n",
       "                   cftime.DatetimeGregorian(2008, 1, 2, 0, 30, 0, 0, has_year_zero=False),\n",
       "                   cftime.DatetimeGregorian(2008, 1, 3, 0, 30, 0, 0, has_year_zero=False),\n",
       "                   ...,\n",
       "                   cftime.DatetimeGregorian(2013, 9, 5, 0, 30, 0, 0, has_year_zero=False),\n",
       "                   cftime.DatetimeGregorian(2013, 9, 6, 0, 30, 0, 0, has_year_zero=False),\n",
       "                   cftime.DatetimeGregorian(2013, 9, 7, 0, 30, 0, 0, has_year_zero=False)],\n",
       "             mask=False,\n",
       "       fill_value='?',\n",
       "            dtype=object)"
      ]
     },
     "execution_count": 9,
     "metadata": {},
     "output_type": "execute_result"
    }
   ],
   "source": [
    "dtime = nc.num2date(time_var[:],time_var.units)\n",
    "dtime"
   ]
  },
  {
   "cell_type": "code",
   "execution_count": null,
   "id": "79f580bb",
   "metadata": {},
   "outputs": [],
   "source": [
    "time_var = ds.variables['time']\n",
    "time_var"
   ]
  },
  {
   "cell_type": "code",
   "execution_count": null,
   "id": "4b9da107",
   "metadata": {},
   "outputs": [],
   "source": [
    "time_units = ds.variables['time'].units\n",
    "time_units"
   ]
  },
  {
   "cell_type": "code",
   "execution_count": null,
   "id": "e2ae51bf",
   "metadata": {},
   "outputs": [],
   "source": [
    "from netCDF4 import Dataset\n",
    "import netcdftime\n",
    "from datetime import datetime"
   ]
  },
  {
   "cell_type": "code",
   "execution_count": 5,
   "id": "479dc108",
   "metadata": {},
   "outputs": [],
   "source": [
    "#from nc import num2date\n",
    "time_var = ds.variables['time']\n",
    "time_units = ds.variables['time'].units\n",
    "tvalue = num2date(time_var,time_units)\n",
    "str_time = [i.strftime(\"%Y-%m-%d %H:%M:%S\") for i in tvalue] # to display dates as string\n",
    "date_time = [datetime.strptime(i, \"%Y-%m-%d %H:%M:%S\") for i in str_time]"
   ]
  },
  {
   "cell_type": "code",
   "execution_count": null,
   "id": "deebef05",
   "metadata": {},
   "outputs": [],
   "source": []
  },
  {
   "cell_type": "code",
   "execution_count": null,
   "id": "07b0daff",
   "metadata": {
    "scrolled": true
   },
   "outputs": [],
   "source": [
    "#from nc import num2date\n",
    "# time_var = ds.variables['time']\n",
    "# time_units = ds.variables['time'].units\n",
    "# tvalue = num2date(nctime,units = t_unit)\n",
    "# str_time = [i.strftime(\"%Y-%m-%d %H:%M:%S\") for i in tvalue] # to display dates as string\n",
    "# date_time = [datetime.strptime(i, \"%Y-%m-%d %H:%M:%S\") for i in str_time]"
   ]
  },
  {
   "cell_type": "code",
   "execution_count": null,
   "id": "65c061ce",
   "metadata": {},
   "outputs": [],
   "source": []
  },
  {
   "cell_type": "code",
   "execution_count": null,
   "id": "9924413f",
   "metadata": {},
   "outputs": [],
   "source": []
  },
  {
   "cell_type": "code",
   "execution_count": null,
   "id": "69efa2b2",
   "metadata": {},
   "outputs": [],
   "source": [
    "date_time"
   ]
  },
  {
   "cell_type": "code",
   "execution_count": null,
   "id": "475b9d46",
   "metadata": {},
   "outputs": [],
   "source": [
    "str_time"
   ]
  },
  {
   "cell_type": "code",
   "execution_count": 6,
   "id": "9c0bc633",
   "metadata": {},
   "outputs": [
    {
     "name": "stdout",
     "output_type": "stream",
     "text": [
      "time  :  2077\n",
      "latitude  :  1\n",
      "longitude  :  1\n",
      "AH  :  2077\n",
      "CO2  :  2077\n",
      "ER_LT  :  2077\n",
      "ER_SOLO  :  2077\n",
      "ET  :  2077\n",
      "Fco2  :  2077\n",
      "Fe  :  2077\n",
      "Fg  :  2077\n",
      "Fh  :  2077\n",
      "Fld  :  2077\n",
      "Flu  :  2077\n",
      "Fn  :  2077\n",
      "Fsd  :  2077\n",
      "Fsu  :  2077\n",
      "GPP_LT  :  2077\n",
      "GPP_SOLO  :  2077\n",
      "NEE_LT  :  2077\n",
      "NEE_SOLO  :  2077\n",
      "NEP_LT  :  2077\n",
      "NEP_SOLO  :  2077\n",
      "Precip  :  2077\n",
      "RH  :  2077\n",
      "SH  :  2077\n",
      "Sws  :  2077\n",
      "Ta  :  2077\n",
      "Ts  :  2077\n",
      "VP  :  2077\n",
      "Ws  :  2077\n",
      "ps  :  2077\n",
      "ustar  :  2077\n"
     ]
    }
   ],
   "source": [
    "dict_ = {}\n",
    "time_list= []\n",
    "for i in ds.variables:\n",
    "    if i == \"time\":\n",
    "        list_a = np.array(ds.variables[i][:]).ravel()#.tolist()\n",
    "        print(i, \" : \", len(list_a))\n",
    "        dict_[i] = np.array(ds.variables[i][:]).ravel()#.tolist()\n",
    "        \n",
    "        # ----------------------------------------------------------\n",
    "        \n",
    "        \n",
    "        time_var = ds.variables['time']\n",
    "        time_units = ds.variables['time'].units\n",
    "        tvalue = num2date(time_var,time_units)\n",
    "        \n",
    "#         str_time = [i.strftime(\"%Y-%m-%d %H:%M:%S\") for i in tvalue] # to display dates as string       \n",
    "#         dict_[\"str_time\"] = np.array(str_time)#.tolist()\n",
    "        \n",
    "        date_time = [datetime.strptime(i, \"%Y-%m-%d %H:%M:%S\") for i in str_time]\n",
    "        dict_[\"date_time\"] = np.array(date_time)#.tolist()\n",
    "        pass\n",
    "    else:\n",
    "        list_a = np.array(ds.variables[i][:]).ravel()#.tolist()\n",
    "        print(i, \" : \", len(list_a))\n",
    "        dict_[i] = np.array(ds.variables[i][:]).ravel()#.tolist()"
   ]
  },
  {
   "cell_type": "code",
   "execution_count": null,
   "id": "8b864c67",
   "metadata": {},
   "outputs": [],
   "source": [
    "df = pd.DataFrame.from_dict(dict_, orient='index')\n",
    "df.replace(-9999, np.nan, inplace=True)\n",
    "df = df.transpose()"
   ]
  },
  {
   "cell_type": "code",
   "execution_count": null,
   "id": "b76213e8",
   "metadata": {},
   "outputs": [],
   "source": [
    "df.describe()"
   ]
  },
  {
   "cell_type": "code",
   "execution_count": null,
   "id": "a62c8e7d",
   "metadata": {},
   "outputs": [],
   "source": [
    "df.columns"
   ]
  },
  {
   "cell_type": "code",
   "execution_count": null,
   "id": "f856b62d",
   "metadata": {},
   "outputs": [],
   "source": [
    "df.head()"
   ]
  },
  {
   "cell_type": "code",
   "execution_count": null,
   "id": "c3226fb5",
   "metadata": {},
   "outputs": [],
   "source": [
    "df['latitude'] =df['latitude'].iloc[0]\n",
    "df['longitude'] =df['longitude'].iloc[0]\n",
    "#df['crs'] =df['crs'].iloc[0]"
   ]
  },
  {
   "cell_type": "code",
   "execution_count": null,
   "id": "e3f4ecfa",
   "metadata": {},
   "outputs": [],
   "source": [
    "df.head()"
   ]
  },
  {
   "cell_type": "code",
   "execution_count": null,
   "id": "bd6d58eb",
   "metadata": {},
   "outputs": [],
   "source": [
    "path, ext = fn.split(\".\")"
   ]
  },
  {
   "cell_type": "code",
   "execution_count": null,
   "id": "d9efc4f3",
   "metadata": {},
   "outputs": [],
   "source": [
    "path"
   ]
  },
  {
   "cell_type": "code",
   "execution_count": null,
   "id": "3dfd483c",
   "metadata": {},
   "outputs": [],
   "source": [
    "df.to_csv(path + \".csv\")"
   ]
  },
  {
   "cell_type": "code",
   "execution_count": null,
   "id": "7de8bf31",
   "metadata": {},
   "outputs": [],
   "source": []
  },
  {
   "cell_type": "code",
   "execution_count": null,
   "id": "fedb4fe2",
   "metadata": {},
   "outputs": [],
   "source": []
  },
  {
   "cell_type": "code",
   "execution_count": null,
   "id": "360be0d8",
   "metadata": {},
   "outputs": [],
   "source": []
  },
  {
   "cell_type": "code",
   "execution_count": null,
   "id": "4a028c6d",
   "metadata": {},
   "outputs": [],
   "source": []
  },
  {
   "cell_type": "code",
   "execution_count": null,
   "id": "21df4a7c",
   "metadata": {},
   "outputs": [],
   "source": []
  },
  {
   "cell_type": "markdown",
   "id": "659f40d9",
   "metadata": {},
   "source": [
    "### Determine the length of time data is current"
   ]
  },
  {
   "cell_type": "code",
   "execution_count": null,
   "id": "feb24d40",
   "metadata": {},
   "outputs": [],
   "source": [
    "df[\"date_time\"].max() - df[\"date_time\"].min()"
   ]
  },
  {
   "cell_type": "code",
   "execution_count": null,
   "id": "8d3d9a0a",
   "metadata": {},
   "outputs": [],
   "source": [
    "df[\"year\"] = df[\"date_time\"].dt.year\n",
    "df[\"month\"] = df[\"date_time\"].dt.month\n",
    "df[\"day\"] = df[\"date_time\"].dt.day"
   ]
  },
  {
   "cell_type": "code",
   "execution_count": null,
   "id": "5b38fe95",
   "metadata": {},
   "outputs": [],
   "source": [
    "df = df.set_index(['date_time'])"
   ]
  },
  {
   "cell_type": "code",
   "execution_count": null,
   "id": "74798363",
   "metadata": {},
   "outputs": [],
   "source": [
    "df_variables = df[['AH', 'CO2', 'Fe',  \n",
    "              'H2O', 'L', 'Precip']]#RH', 'SH', 'Sws', 'Ta', 'Ts', 'VP']]\n",
    "              #'VPD', 'Wd', 'Ws', 'ps']] #''Fh', 'Fm', 'Fn', 'Fsd', 'Fsu'"
   ]
  },
  {
   "cell_type": "code",
   "execution_count": null,
   "id": "0d4f095c",
   "metadata": {},
   "outputs": [],
   "source": [
    "df_20 = df_variables.head(20)\n",
    "df_20.shape"
   ]
  },
  {
   "cell_type": "code",
   "execution_count": null,
   "id": "84c04feb",
   "metadata": {},
   "outputs": [],
   "source": [
    "for i in df.columns:\n",
    "    print(i)"
   ]
  },
  {
   "cell_type": "code",
   "execution_count": null,
   "id": "31a42bd0",
   "metadata": {},
   "outputs": [],
   "source": [
    "ds.variables['Sws']"
   ]
  },
  {
   "cell_type": "code",
   "execution_count": null,
   "id": "02bf2be5",
   "metadata": {
    "scrolled": true
   },
   "outputs": [],
   "source": [
    "df_var = df[['AH', 'CO2', 'Fe', 'H2O', 'L', 'Precip', 'RH', 'SH', 'Sws', 'Ta', 'Ts', 'VP',\n",
    "                   'VPD', 'Wd', 'Ws', 'ps', 'Fh', 'Fm', 'Fn', 'Fsd', 'Fsu']]\n",
    "df_var_20 = df_var.head(2000)\n",
    "\n",
    "df_var_20.describe()"
   ]
  },
  {
   "cell_type": "code",
   "execution_count": null,
   "id": "30acb6f8",
   "metadata": {},
   "outputs": [],
   "source": [
    "figures = []\n",
    "\n",
    "for column in df_var:\n",
    "    f = plt.figure(figsize=(6,6))\n",
    "    figures += [f]  # This appends a figure f to the list of figures\n",
    "    ax = plt.axes()\n",
    "    ax.plot(df_var_20[column], df_var_20.CO2,  marker = 'o', ls='', ms = 3.0)\n",
    "    plt.xlabel(column)\n",
    "    plt.ylabel(\"CO2\")"
   ]
  },
  {
   "cell_type": "code",
   "execution_count": null,
   "id": "8856d9a4",
   "metadata": {},
   "outputs": [],
   "source": [
    "sbs.pairplot(df.sample(100))"
   ]
  },
  {
   "cell_type": "code",
   "execution_count": null,
   "id": "56b58e09",
   "metadata": {},
   "outputs": [],
   "source": [
    "df.head()"
   ]
  },
  {
   "cell_type": "code",
   "execution_count": null,
   "id": "84dd369d",
   "metadata": {},
   "outputs": [],
   "source": [
    "df1 = df.copy"
   ]
  },
  {
   "cell_type": "code",
   "execution_count": null,
   "id": "67879e82",
   "metadata": {},
   "outputs": [],
   "source": [
    "df.shape"
   ]
  },
  {
   "cell_type": "code",
   "execution_count": null,
   "id": "17b22612",
   "metadata": {},
   "outputs": [],
   "source": [
    "def random_dates(start, end, n=215933):\n",
    "\n",
    "    start_u = start.value//10**9\n",
    "    end_u = end.value//10**9\n",
    "\n",
    "    return pd.to_datetime(np.random.randint(start_u, end_u, n), unit='s')"
   ]
  },
  {
   "cell_type": "code",
   "execution_count": null,
   "id": "6043a274",
   "metadata": {},
   "outputs": [],
   "source": [
    "start = pd.to_datetime('2015-01-01')\n",
    "end = pd.to_datetime('2018-01-01')\n",
    "datelist = random_dates(start, end)"
   ]
  },
  {
   "cell_type": "code",
   "execution_count": null,
   "id": "3aada534",
   "metadata": {},
   "outputs": [],
   "source": [
    "df['Datetime'] = datelist\n",
    "df = df.set_index(['Datetime'])"
   ]
  },
  {
   "cell_type": "code",
   "execution_count": null,
   "id": "8e06f674",
   "metadata": {},
   "outputs": [],
   "source": [
    "df.head(200).plot()"
   ]
  },
  {
   "cell_type": "code",
   "execution_count": null,
   "id": "a276c788",
   "metadata": {},
   "outputs": [],
   "source": []
  },
  {
   "cell_type": "code",
   "execution_count": null,
   "id": "951ec5f2",
   "metadata": {},
   "outputs": [],
   "source": [
    "# df.groupby(\n",
    "#     [df[\"datetime\"].dt.weekday, \"location\"])[\"ps_QCFlag\"].mean()"
   ]
  },
  {
   "cell_type": "code",
   "execution_count": null,
   "id": "07a308bd",
   "metadata": {
    "scrolled": true
   },
   "outputs": [],
   "source": [
    "df.groupby(df[\"Datetime\"].dt.hour)[\"CO2\"].mean()"
   ]
  },
  {
   "cell_type": "code",
   "execution_count": null,
   "id": "3905a892",
   "metadata": {
    "scrolled": true
   },
   "outputs": [],
   "source": [
    "fig, axs = plt.subplots(figsize=(12, 4))\n",
    "\n",
    "df.groupby(df[\"datetime\"].dt.hour)[\"AH\"].mean().plot(\n",
    "    kind='bar', rot=0, ax=axs\n",
    ")\n",
    "\n",
    "\n",
    "plt.xlabel(\"Hour of the day\")  # custom x label using matplotlib\n",
    "\n",
    "plt.ylabel(\"$NO_2 (µg/m^3)$\")"
   ]
  },
  {
   "cell_type": "code",
   "execution_count": null,
   "id": "11ce15c8",
   "metadata": {
    "scrolled": false
   },
   "outputs": [],
   "source": [
    "df.plot()"
   ]
  },
  {
   "cell_type": "code",
   "execution_count": null,
   "id": "a7d0c05d",
   "metadata": {},
   "outputs": [],
   "source": []
  }
 ],
 "metadata": {
  "kernelspec": {
   "display_name": "Python 3 (ipykernel)",
   "language": "python",
   "name": "python3"
  },
  "language_info": {
   "codemirror_mode": {
    "name": "ipython",
    "version": 3
   },
   "file_extension": ".py",
   "mimetype": "text/x-python",
   "name": "python",
   "nbconvert_exporter": "python",
   "pygments_lexer": "ipython3",
   "version": "3.9.12"
  }
 },
 "nbformat": 4,
 "nbformat_minor": 5
}
